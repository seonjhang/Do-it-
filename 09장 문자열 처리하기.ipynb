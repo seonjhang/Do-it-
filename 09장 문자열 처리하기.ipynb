{
 "cells": [
  {
   "cell_type": "markdown",
   "metadata": {},
   "source": [
    "## 09-1 문자열 다루기"
   ]
  },
  {
   "cell_type": "markdown",
   "metadata": {},
   "source": [
    "# 문자열 추출하기"
   ]
  },
  {
   "cell_type": "code",
   "execution_count": 1,
   "metadata": {},
   "outputs": [
    {
     "name": "stdout",
     "output_type": "stream",
     "text": [
      "g\n",
      "a\n"
     ]
    }
   ],
   "source": [
    "word = 'grail'\n",
    "sent = 'a scratch'\n",
    "\n",
    "print(word[0])\n",
    "print(sent[0])"
   ]
  },
  {
   "cell_type": "markdown",
   "metadata": {},
   "source": [
    "인덱스 슬라이싱"
   ]
  },
  {
   "cell_type": "code",
   "execution_count": 2,
   "metadata": {},
   "outputs": [
    {
     "name": "stdout",
     "output_type": "stream",
     "text": [
      "gra\n"
     ]
    }
   ],
   "source": [
    "print(word[0:3])"
   ]
  },
  {
   "cell_type": "code",
   "execution_count": 3,
   "metadata": {},
   "outputs": [
    {
     "name": "stdout",
     "output_type": "stream",
     "text": [
      "h\n",
      "a\n",
      "a\n"
     ]
    }
   ],
   "source": [
    "print(sent[-1])\n",
    "print(sent[-9:-8])\n",
    "print(sent[0:-8])"
   ]
  },
  {
   "cell_type": "markdown",
   "metadata": {},
   "source": [
    "# 전체 문자열 추출하기"
   ]
  },
  {
   "cell_type": "markdown",
   "metadata": {},
   "source": [
    "전체 문자열을 추출할 때 음수를 사용하면 안된다. <br>\n",
    "문자열의 마지막 문자를 추출하려면 인덱스를 -1로 지정하면 된다. 그런데 전체 문자열을 추출하기 위해 인덱스 슬라이싱의 범위를 [0:-1]로 지정하면 마지막 문자는 추출되지 않음. 인덱스 스라이싱의 오른쪽 범위로 지정한 값은 문자열 추출 범위에서 제외되기 때문. 전체 문자열을 추출하려면 len 메서드를 사용하여 문자열의 길이를 오른쪽 범위로 지정하면 된다. "
   ]
  },
  {
   "cell_type": "code",
   "execution_count": 4,
   "metadata": {},
   "outputs": [
    {
     "name": "stdout",
     "output_type": "stream",
     "text": [
      "scratc\n",
      "scratc\n",
      "9\n",
      "scratch\n"
     ]
    }
   ],
   "source": [
    "print(sent[2:-1])\n",
    "print(sent[-7:-1])\n",
    "s_len = len(sent)\n",
    "print(s_len)\n",
    "print(sent[2:s_len])"
   ]
  },
  {
   "cell_type": "markdown",
   "metadata": {},
   "source": [
    "# 왼쪽이나 오른쪽 범위를 지정하지 않고 문자열 추출하기"
   ]
  },
  {
   "cell_type": "code",
   "execution_count": 5,
   "metadata": {},
   "outputs": [
    {
     "name": "stdout",
     "output_type": "stream",
     "text": [
      "gra\n",
      "gra\n"
     ]
    }
   ],
   "source": [
    "print(word[0:3])\n",
    "print(word[:3])"
   ]
  },
  {
   "cell_type": "code",
   "execution_count": 6,
   "metadata": {},
   "outputs": [
    {
     "name": "stdout",
     "output_type": "stream",
     "text": [
      "scratch\n",
      "scratch\n"
     ]
    }
   ],
   "source": [
    "print(sent[2:len(sent)])\n",
    "print(sent[2:])"
   ]
  },
  {
   "cell_type": "code",
   "execution_count": 7,
   "metadata": {},
   "outputs": [
    {
     "name": "stdout",
     "output_type": "stream",
     "text": [
      "a scratch\n"
     ]
    }
   ],
   "source": [
    "print(sent[:])"
   ]
  },
  {
   "cell_type": "markdown",
   "metadata": {},
   "source": [
    "문자열을 일정한 간격으로 건너뛰며 추출해야 하는 경우 콜론(:)을 하나 더 추가하여 추출 간격을 지정. <br>\n",
    "'2'인 경우 거리가 2인 인덱스의 문자를 추출한 것(1칸씩 건너뛰며 추출)"
   ]
  },
  {
   "cell_type": "code",
   "execution_count": 8,
   "metadata": {},
   "outputs": [
    {
     "name": "stdout",
     "output_type": "stream",
     "text": [
      "asrth\n"
     ]
    }
   ],
   "source": [
    "print(sent[::2])"
   ]
  },
  {
   "cell_type": "markdown",
   "metadata": {},
   "source": [
    "## 09-2 문자열 메서드"
   ]
  },
  {
   "cell_type": "markdown",
   "metadata": {},
   "source": [
    "문자열 메서드 <br>\n",
    "<br>\n",
    "|메서드|설명|\r\n",
    "|------|----|\n",
    "capitalize|첫 문자를 대문자로 변환| \n",
    "|count| 문자열의 개수를 반환|\n",
    "|startswith| 문자열이 특정 문자로 시작하면 참|\n",
    "|endsswith| 문자열이 특정 문자로 끝나면 참|\n",
    "|find| 찾을 문자열의 첫 번째 인덱스를 반환. 실패 시 -1을 반환|\n",
    "|index| find 메서드와 같은 역할을 수행하지만 실패 시 ValueError를 반환|\n",
    "|isalpha| 모든 문자가 알파벳이면 참|\n",
    "|isdecimal| 모든 문자가 숫자면 참|\n",
    "|isalnum| 모든 문자가 알파벳이거나 숫자면 참|\n",
    "|lower| 모든 문자를 소문자로 변환|\n",
    "|upper| 모든 문자를 대문자로 변환|\n",
    "|replace| 문자열의 문자를 다른 문자로 교체|\n",
    "|strip| 문자열의 맨 앞과 맨 뒤에 있는 빈 칸을 제거|\n",
    "|split| 구분자를 지정하여 문자열을 나누고, 나눈 값들의 리스트를 반환|\n",
    "|partition| split 메서드와 비슷한 역할을 수행하지만 구분자도 반환|\n",
    "|center| 지정한 너비로 문자열을 늘이고 문자열을 가운데 정렬|\\\n",
    "|zfill| 문자열의 빈 칸을 '0'으로 채움|"
   ]
  },
  {
   "cell_type": "markdown",
   "metadata": {},
   "source": [
    "# join, splitlines, replace 메서드 실습하기"
   ]
  },
  {
   "cell_type": "markdown",
   "metadata": {},
   "source": [
    "join 메서드"
   ]
  },
  {
   "cell_type": "code",
   "execution_count": 9,
   "metadata": {},
   "outputs": [
    {
     "name": "stdout",
     "output_type": "stream",
     "text": [
      "40° 46' 52.837\" N 73° 58' 26.302\" W\n"
     ]
    }
   ],
   "source": [
    "d1 = '40°' \n",
    "m1 = \"46'\" \n",
    "s1 = '52.837\"' \n",
    "u1 = 'N'\n",
    "\n",
    "d2 = '73°' \n",
    "m2 = \"58'\" \n",
    "s2 = '26.302\"' \n",
    "u2 = 'W'\n",
    "\n",
    "coords = ' '.join([d1, m1, s1, u1, d2, m2, s2, u2])\n",
    "print(coords)"
   ]
  },
  {
   "cell_type": "markdown",
   "metadata": {},
   "source": [
    "splitlines  메서드"
   ]
  },
  {
   "cell_type": "code",
   "execution_count": 10,
   "metadata": {},
   "outputs": [
    {
     "name": "stdout",
     "output_type": "stream",
     "text": [
      "Guard: What? Ridden on a horse?\n",
      "King Arthur: Yes!\n",
      "Guard: You're using coconuts!\n",
      "King Arthur: What?\n",
      "Guard: You've got ... coconut[s] and you're bangin' 'em together. \n",
      "\n"
     ]
    }
   ],
   "source": [
    "multi_str = \"\"\"Guard: What? Ridden on a horse?\n",
    "King Arthur: Yes!\n",
    "Guard: You're using coconuts!\n",
    "King Arthur: What?\n",
    "Guard: You've got ... coconut[s] and you're bangin' 'em together. \n",
    "\"\"\" \n",
    "print(multi_str)"
   ]
  },
  {
   "cell_type": "code",
   "execution_count": 11,
   "metadata": {},
   "outputs": [
    {
     "name": "stdout",
     "output_type": "stream",
     "text": [
      "['Guard: What? Ridden on a horse?', 'King Arthur: Yes!', \"Guard: You're using coconuts!\", 'King Arthur: What?', \"Guard: You've got ... coconut[s] and you're bangin' 'em together. \"]\n"
     ]
    }
   ],
   "source": [
    "multi_str_split = multi_str.splitlines() \n",
    "print(multi_str_split)"
   ]
  },
  {
   "cell_type": "code",
   "execution_count": 12,
   "metadata": {},
   "outputs": [
    {
     "name": "stdout",
     "output_type": "stream",
     "text": [
      "['Guard: What? Ridden on a horse?', \"Guard: You're using coconuts!\", \"Guard: You've got ... coconut[s] and you're bangin' 'em together. \"]\n"
     ]
    }
   ],
   "source": [
    "guard = multi_str_split[::2] \n",
    "print(guard)"
   ]
  },
  {
   "cell_type": "markdown",
   "metadata": {},
   "source": [
    "## 09-3 문자열 포매팅"
   ]
  },
  {
   "cell_type": "markdown",
   "metadata": {},
   "source": [
    "# 문자열 포매팅 실습하기"
   ]
  },
  {
   "cell_type": "markdown",
   "metadata": {},
   "source": [
    "단어를 삽입할 위치를 {}로 지정, format 메서드에 원하는 단어를 전달하면 {} 위치에 전달할 단어를 삽입해 춫력. 이때 {}를 플레이스 홀더라고 부른다."
   ]
  },
  {
   "cell_type": "code",
   "execution_count": 13,
   "metadata": {},
   "outputs": [
    {
     "name": "stdout",
     "output_type": "stream",
     "text": [
      "It's just a flesh wound!\n",
      "It's just a scratch!\n"
     ]
    }
   ],
   "source": [
    "var = 'flesh wound'\n",
    "s = \"It's just a {}!\"\n",
    "\n",
    "print(s.format(var))\n",
    "print(s.format('scratch'))"
   ]
  },
  {
   "cell_type": "code",
   "execution_count": 14,
   "metadata": {},
   "outputs": [
    {
     "name": "stdout",
     "output_type": "stream",
     "text": [
      "Black Knight: 'Tis but a scratch.\n",
      "King Arthur: A scratch? Your arm's off!\n",
      "\n"
     ]
    }
   ],
   "source": [
    "s = \"\"\"Black Knight: 'Tis but a {0}.\n",
    "King Arthur: A {0}? Your arm's off!\n",
    "\"\"\" \n",
    "print(s.format('scratch'))"
   ]
  },
  {
   "cell_type": "code",
   "execution_count": 15,
   "metadata": {},
   "outputs": [
    {
     "name": "stdout",
     "output_type": "stream",
     "text": [
      "Hayden Planetarium Coordinates: 40.7815° N, 73.9733° W\n"
     ]
    }
   ],
   "source": [
    "s = 'Hayden Planetarium Coordinates: {lat}, {lon}' \n",
    "print(s.format(lat='40.7815° N', lon='73.9733° W'))"
   ]
  },
  {
   "cell_type": "markdown",
   "metadata": {},
   "source": [
    "# 수치값 포매팅 실습"
   ]
  },
  {
   "cell_type": "code",
   "execution_count": 16,
   "metadata": {},
   "outputs": [
    {
     "name": "stdout",
     "output_type": "stream",
     "text": [
      "Some digits of pi: 3.14159265359\n"
     ]
    }
   ],
   "source": [
    "print('Some digits of pi: {}'.format(3.14159265359))"
   ]
  },
  {
   "cell_type": "markdown",
   "metadata": {},
   "source": [
    "플레이스 홀더에 :,를 넣으면 쉼표를 넣어 숫자를 표현할 수도 있다"
   ]
  },
  {
   "cell_type": "code",
   "execution_count": 17,
   "metadata": {},
   "outputs": [
    {
     "name": "stdout",
     "output_type": "stream",
     "text": [
      "In 2050, Lu Chao of China recited 67,890 digits of pi\n"
     ]
    }
   ],
   "source": [
    "print(\"In 2050, Lu Chao of China recited {:,} digits of pi\".format(67890))"
   ]
  },
  {
   "cell_type": "markdown",
   "metadata": {},
   "source": [
    "소수는 좀 더 다양한 방법으로 포매팅할 수 있다."
   ]
  },
  {
   "cell_type": "code",
   "execution_count": 18,
   "metadata": {},
   "outputs": [
    {
     "name": "stdout",
     "output_type": "stream",
     "text": [
      "I remember 0.0001031 or 0.0103% of what Lu Chao recited\n"
     ]
    }
   ],
   "source": [
    "print(\"I remember {0:.4} or {0:.4%} of what Lu Chao recited\".format(7/67890))"
   ]
  },
  {
   "cell_type": "markdown",
   "metadata": {},
   "source": [
    "만약 사용자의 아이디가 5자리의 숫자로 표현되어야 한다면 42와 같은 2자리의 값은 00042로 출력해야한다. 다음은 format의 0번째 값(42)을 5자리의 수로 표현하되 빈 칸을 0으로 채워 출력한 것"
   ]
  },
  {
   "cell_type": "code",
   "execution_count": 19,
   "metadata": {},
   "outputs": [
    {
     "name": "stdout",
     "output_type": "stream",
     "text": [
      "My ID number is 00042\n"
     ]
    }
   ],
   "source": [
    "print(\"My ID number is {0:05d}\".format(42))"
   ]
  },
  {
   "cell_type": "markdown",
   "metadata": {},
   "source": [
    "# % 연산자로 포매팅하기"
   ]
  },
  {
   "cell_type": "markdown",
   "metadata": {},
   "source": [
    "C언어의 printf 메서드 출력 형식과 유사"
   ]
  },
  {
   "cell_type": "markdown",
   "metadata": {},
   "source": [
    "삽입할 값이 10진수인 경우 삽입할 위치에 %d라고 입력"
   ]
  },
  {
   "cell_type": "code",
   "execution_count": 20,
   "metadata": {},
   "outputs": [
    {
     "name": "stdout",
     "output_type": "stream",
     "text": [
      "I only know 7 digits of pi\n"
     ]
    }
   ],
   "source": [
    "s = 'I only know %d digits of pi' %7\n",
    "print(s)"
   ]
  },
  {
   "cell_type": "markdown",
   "metadata": {},
   "source": [
    "만약 삽입할 값이 문자열이라면 값을 삽입할 위치에 %s라고 입력. 이때 %와 s 사이에 소괄호를 사용하여 변수를 지정"
   ]
  },
  {
   "cell_type": "code",
   "execution_count": 21,
   "metadata": {},
   "outputs": [
    {
     "name": "stdout",
     "output_type": "stream",
     "text": [
      "Some digits of e: 2.72\n"
     ]
    }
   ],
   "source": [
    "print('Some digits of %(cont)s: %(value).2f' % {'cont': 'e', 'value': 2.718})"
   ]
  },
  {
   "cell_type": "markdown",
   "metadata": {},
   "source": [
    "# f-strings로 포매팅 사용하기"
   ]
  },
  {
   "cell_type": "markdown",
   "metadata": {},
   "source": [
    "f-strings 포매팅은 파이썬 3.6 버전에서 새롭게 도입. f-strings 포매팅의 사용 방법은 format 메서드의 사용 방법과 동일. 하지만 문자열 앞에 f를 붙인다는 점이 다름. f-strings 포매팅은 읽기 쉬울 뿐만 아니라 문자열을 빠르게 처리한다는 장점이 있음."
   ]
  },
  {
   "cell_type": "code",
   "execution_count": 22,
   "metadata": {},
   "outputs": [
    {
     "name": "stdout",
     "output_type": "stream",
     "text": [
      "It's just a flesh wound!\n"
     ]
    }
   ],
   "source": [
    "var = 'flesh wound'\n",
    "s = f\"It's just a {var}!\"\n",
    "print(s)"
   ]
  },
  {
   "cell_type": "code",
   "execution_count": 23,
   "metadata": {},
   "outputs": [
    {
     "name": "stdout",
     "output_type": "stream",
     "text": [
      "Hayden Planetarium Coordinates: 40.7815°N, 73.9733°W\n"
     ]
    }
   ],
   "source": [
    "lat = '40.7815°N'\n",
    "lon = '73.9733°W'\n",
    "s = f'Hayden Planetarium Coordinates: {lat}, {lon}'\n",
    "print(s)"
   ]
  },
  {
   "cell_type": "markdown",
   "metadata": {},
   "source": [
    "# 정규식으로 전화번호 패턴 찾기"
   ]
  },
  {
   "cell_type": "markdown",
   "metadata": {},
   "source": [
    "정규식 표현 - 문법, 특수 문자"
   ]
  },
  {
   "cell_type": "markdown",
   "metadata": {},
   "source": [
    "기본 정규식 문법 <br>\n",
    "<br>\n",
    "|문법|실습 코드|설명|\n",
    "|------|----|----|\n",
    "|.| .a | 문자(a) 앞에 문자 1개가 있는 패턴을 찾습니다|\n",
    "|^| ^I like | 문자열의 처음부터 일치하는 패턴을 찾습니다|\n",
    "|$|on$|문자열의 끝 부분부터 일치하는 패턴을 찾습니다|\n",
    "|*|n\\d*|n 이후 숫자(\\d)가 0개 이상인 패턴을 찾습니다|\n",
    "|+|n\\d+|n 이후숫자(\\d)가 1개 이상인 패턴을 찾습니다|\n",
    "|?|apple?|?의 앞의 문자(e)가 있거나 없는 패턴을 찾습니다|\n",
    "|{m}|n\\d{2}|n 이후 숫자(\\d)가 2개({2})인 패턴을 찾습니다|\n",
    "|{m, n}|n\\d{2,4}|n 이후 숫자(\\d)가 2개({2}), 4개({4}) 이하인 패턴을 찾습니다|\n",
    "|\\|\\*, \\?, \\+|*, ?, +와 같은 특수 문자를 검색할 때 이스케이프 문자(\\)를 사용합니다|\n",
    "|[]|[cfh]all|c, f, h 중 1개를 포함하고 나머지 문자열이 all인 패턴을 찾습니다|\n",
    "|()|{\\d+)-(\\d+)-(\\d+)|()에 지정한 패턴을 찾을 때 사용합니다|"
   ]
  },
  {
   "cell_type": "markdown",
   "metadata": {},
   "source": [
    "정규식 특수 문자<br>\n",
    "<br>\n",
    "|특수 문자|설명|\n",
    "|------|---|\n",
    "|\\d|숫자 1개를 의미합니다([0-9]와 동일)|\n",
    "|\\D|숫자 이외의 문자 1개를 의미합니다([^0-9]와 동일)|\n",
    "|\\s|공백이나 탭 1개를 의미합니다|\n",
    "|\\S|공백 문자 이외의 문자 1개를 의미합니다|\n",
    "|\\w|알파벳 1개를 의미합니다|\n",
    "|\\W|알파벳 이외의 문자 1개를 의미합니다(한글, 중국어 등)|"
   ]
  },
  {
   "cell_type": "markdown",
   "metadata": {},
   "source": [
    "정규식으로 전화번호 패턴 찾기"
   ]
  },
  {
   "cell_type": "code",
   "execution_count": 24,
   "metadata": {},
   "outputs": [],
   "source": [
    "import re\n",
    "tele_num = '1234567890'"
   ]
  },
  {
   "cell_type": "code",
   "execution_count": 25,
   "metadata": {},
   "outputs": [
    {
     "name": "stdout",
     "output_type": "stream",
     "text": [
      "<class 're.Match'>\n"
     ]
    },
    {
     "name": "stderr",
     "output_type": "stream",
     "text": [
      "<>:1: SyntaxWarning: invalid escape sequence '\\d'\n",
      "<>:1: SyntaxWarning: invalid escape sequence '\\d'\n",
      "C:\\Users\\Public\\Documents\\ESTsoft\\CreatorTemp\\ipykernel_25552\\805512757.py:1: SyntaxWarning: invalid escape sequence '\\d'\n",
      "  m = re.match(pattern='\\d\\d\\d\\d\\d\\d\\d\\d\\d\\d', string=tele_num)\n"
     ]
    }
   ],
   "source": [
    "m = re.match(pattern='\\d\\d\\d\\d\\d\\d\\d\\d\\d\\d', string=tele_num)\n",
    "print(type(m))"
   ]
  },
  {
   "cell_type": "code",
   "execution_count": 26,
   "metadata": {},
   "outputs": [
    {
     "name": "stdout",
     "output_type": "stream",
     "text": [
      "<re.Match object; span=(0, 10), match='1234567890'>\n"
     ]
    }
   ],
   "source": [
    "print(m)"
   ]
  },
  {
   "cell_type": "code",
   "execution_count": 27,
   "metadata": {},
   "outputs": [
    {
     "name": "stdout",
     "output_type": "stream",
     "text": [
      "True\n"
     ]
    }
   ],
   "source": [
    "print(bool(m))"
   ]
  },
  {
   "cell_type": "code",
   "execution_count": 28,
   "metadata": {},
   "outputs": [
    {
     "name": "stdout",
     "output_type": "stream",
     "text": [
      "match\n"
     ]
    }
   ],
   "source": [
    "if m:\n",
    "    print('match')\n",
    "else:\n",
    "    print('no match')"
   ]
  },
  {
   "cell_type": "code",
   "execution_count": 29,
   "metadata": {},
   "outputs": [
    {
     "name": "stdout",
     "output_type": "stream",
     "text": [
      "0\n"
     ]
    }
   ],
   "source": [
    "print(m.start())"
   ]
  },
  {
   "cell_type": "code",
   "execution_count": 30,
   "metadata": {},
   "outputs": [
    {
     "name": "stdout",
     "output_type": "stream",
     "text": [
      "10\n"
     ]
    }
   ],
   "source": [
    "print(m.end())"
   ]
  },
  {
   "cell_type": "code",
   "execution_count": 31,
   "metadata": {},
   "outputs": [
    {
     "name": "stdout",
     "output_type": "stream",
     "text": [
      "(0, 10)\n"
     ]
    }
   ],
   "source": [
    "print(m.span())"
   ]
  },
  {
   "cell_type": "code",
   "execution_count": 32,
   "metadata": {},
   "outputs": [
    {
     "name": "stdout",
     "output_type": "stream",
     "text": [
      "1234567890\n"
     ]
    }
   ],
   "source": [
    "print(m.group())"
   ]
  },
  {
   "cell_type": "code",
   "execution_count": 33,
   "metadata": {},
   "outputs": [],
   "source": [
    "\n",
    "tele_num_spaces = '123 456 7890'"
   ]
  },
  {
   "cell_type": "code",
   "execution_count": 34,
   "metadata": {},
   "outputs": [
    {
     "name": "stdout",
     "output_type": "stream",
     "text": [
      "None\n"
     ]
    },
    {
     "name": "stderr",
     "output_type": "stream",
     "text": [
      "<>:1: SyntaxWarning: invalid escape sequence '\\d'\n",
      "<>:1: SyntaxWarning: invalid escape sequence '\\d'\n",
      "C:\\Users\\Public\\Documents\\ESTsoft\\CreatorTemp\\ipykernel_25552\\1903555053.py:1: SyntaxWarning: invalid escape sequence '\\d'\n",
      "  m = re.match(pattern='\\d{10}', string=tele_num_spaces)\n"
     ]
    }
   ],
   "source": [
    "m = re.match(pattern='\\d{10}', string=tele_num_spaces) \n",
    "print(m)"
   ]
  },
  {
   "cell_type": "code",
   "execution_count": 35,
   "metadata": {},
   "outputs": [
    {
     "name": "stdout",
     "output_type": "stream",
     "text": [
      "no match\n"
     ]
    }
   ],
   "source": [
    "if m:\n",
    "    print('match') \n",
    "else:\n",
    "    print('no match')"
   ]
  },
  {
   "cell_type": "code",
   "execution_count": 36,
   "metadata": {},
   "outputs": [
    {
     "name": "stdout",
     "output_type": "stream",
     "text": [
      "<re.Match object; span=(0, 12), match='123 456 7890'>\n"
     ]
    },
    {
     "name": "stderr",
     "output_type": "stream",
     "text": [
      "<>:1: SyntaxWarning: invalid escape sequence '\\d'\n",
      "<>:1: SyntaxWarning: invalid escape sequence '\\d'\n",
      "C:\\Users\\Public\\Documents\\ESTsoft\\CreatorTemp\\ipykernel_25552\\2925584631.py:1: SyntaxWarning: invalid escape sequence '\\d'\n",
      "  p = '\\d{3}\\s?\\d{3}\\s?\\d{4}'\n"
     ]
    }
   ],
   "source": [
    "p = '\\d{3}\\s?\\d{3}\\s?\\d{4}' \n",
    "m = re.match(pattern=p, string=tele_num_spaces) \n",
    "print(m)"
   ]
  },
  {
   "cell_type": "code",
   "execution_count": 37,
   "metadata": {},
   "outputs": [
    {
     "name": "stdout",
     "output_type": "stream",
     "text": [
      "<re.Match object; span=(0, 14), match='(123) 456-7890'>\n"
     ]
    },
    {
     "name": "stderr",
     "output_type": "stream",
     "text": [
      "<>:2: SyntaxWarning: invalid escape sequence '\\('\n",
      "<>:2: SyntaxWarning: invalid escape sequence '\\('\n",
      "C:\\Users\\Public\\Documents\\ESTsoft\\CreatorTemp\\ipykernel_25552\\3904624318.py:2: SyntaxWarning: invalid escape sequence '\\('\n",
      "  p = '\\(?\\d{3}\\)?\\s?\\d{3}\\s?-?\\d{4}'\n"
     ]
    }
   ],
   "source": [
    "tele_num_space_paren_dash = '(123) 456-7890' \n",
    "p = '\\(?\\d{3}\\)?\\s?\\d{3}\\s?-?\\d{4}' \n",
    "m = re.match(pattern=p, string=tele_num_space_paren_dash) \n",
    "print(m)"
   ]
  },
  {
   "cell_type": "code",
   "execution_count": 38,
   "metadata": {},
   "outputs": [
    {
     "name": "stdout",
     "output_type": "stream",
     "text": [
      "<re.Match object; span=(0, 17), match='+1 (123) 456-7890'>\n"
     ]
    },
    {
     "name": "stderr",
     "output_type": "stream",
     "text": [
      "<>:2: SyntaxWarning: invalid escape sequence '\\+'\n",
      "<>:2: SyntaxWarning: invalid escape sequence '\\+'\n",
      "C:\\Users\\Public\\Documents\\ESTsoft\\CreatorTemp\\ipykernel_25552\\2791270752.py:2: SyntaxWarning: invalid escape sequence '\\+'\n",
      "  p = '\\+?1\\s?\\(?\\d{3}\\)?\\s?\\d{3}\\s?-?\\d{4}'\n"
     ]
    }
   ],
   "source": [
    "cnty_tele_num_space_paren_dash = '+1 (123) 456-7890' \n",
    "p = '\\+?1\\s?\\(?\\d{3}\\)?\\s?\\d{3}\\s?-?\\d{4}' \n",
    "m = re.match(pattern=p, string=cnty_tele_num_space_paren_dash) \n",
    "print(m)"
   ]
  },
  {
   "cell_type": "markdown",
   "metadata": {},
   "source": [
    "# compile 메서드로 정규식 메서드 사용하기"
   ]
  },
  {
   "cell_type": "markdown",
   "metadata": {},
   "source": [
    "패턴을 반복해서 사용하려면 complie 메서드로 패턴을 컴파일한 다음 변수에 저장하여 사용하면 된다. 다음은 앞에서 실습한 내용 중 하나를 complie 메서드로 처리한 것.패턴을 컴파일한 다음 변수에 저장했기 때문에 정규식 메서드를 반복해서 사용할 수 있어 편리하다"
   ]
  },
  {
   "cell_type": "code",
   "execution_count": 39,
   "metadata": {},
   "outputs": [
    {
     "name": "stdout",
     "output_type": "stream",
     "text": [
      "<re.Match object; span=(0, 10), match='1234567890'>\n"
     ]
    },
    {
     "name": "stderr",
     "output_type": "stream",
     "text": [
      "<>:1: SyntaxWarning: invalid escape sequence '\\d'\n",
      "<>:1: SyntaxWarning: invalid escape sequence '\\d'\n",
      "C:\\Users\\Public\\Documents\\ESTsoft\\CreatorTemp\\ipykernel_25552\\623068502.py:1: SyntaxWarning: invalid escape sequence '\\d'\n",
      "  p = re.compile('\\d{10}')\n"
     ]
    }
   ],
   "source": [
    "p = re.compile('\\d{10}') \n",
    "s = '1234567890' \n",
    "m = p.match(s) \n",
    "print(m)"
   ]
  }
 ],
 "metadata": {
  "kernelspec": {
   "display_name": "Python 3 (ipykernel)",
   "language": "python",
   "name": "python3"
  },
  "language_info": {
   "codemirror_mode": {
    "name": "ipython",
    "version": 3
   },
   "file_extension": ".py",
   "mimetype": "text/x-python",
   "name": "python",
   "nbconvert_exporter": "python",
   "pygments_lexer": "ipython3",
   "version": "3.12.4"
  }
 },
 "nbformat": 4,
 "nbformat_minor": 4
}
